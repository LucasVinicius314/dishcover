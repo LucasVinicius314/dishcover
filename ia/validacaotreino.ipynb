{
 "cells": [
  {
   "cell_type": "code",
   "execution_count": 1,
   "metadata": {},
   "outputs": [],
   "source": [
    "import tensorflow as tf\n",
    "import numpy as np\n",
    "from keras.preprocessing.image import ImageDataGenerator\n",
    "from keras.models import Sequential,load_model\n",
    "from keras.layers import Conv2D, MaxPooling2D, Flatten, Dense\n",
    "from tensorflow.keras.preprocessing import image\n",
    "from sklearn.model_selection import KFold\n",
    "import matplotlib.pyplot as plt\n",
    "from scikeras.wrappers import KerasClassifier\n",
    "import cv2\n",
    "import os"
   ]
  },
  {
   "cell_type": "code",
   "execution_count": null,
   "metadata": {},
   "outputs": [],
   "source": [
    "img = image.load_img(\"./data/archiveshort/validation/3lci8x.jpg\")\n",
    "plt.imshow(img)"
   ]
  },
  {
   "cell_type": "code",
   "execution_count": null,
   "metadata": {},
   "outputs": [],
   "source": [
    "cv2.imread(\"./data/archiveshort/validation/3lci8x.jpg\").shape"
   ]
  },
  {
   "cell_type": "code",
   "execution_count": null,
   "metadata": {},
   "outputs": [],
   "source": [
    "path_treino = \"./data/archiveshort/data/train/\"\n",
    "path_test = \"./data/archiveshort/data/test/\""
   ]
  },
  {
   "cell_type": "code",
   "execution_count": null,
   "metadata": {},
   "outputs": [],
   "source": [
    "# Pré-processamento dos dados\n",
    "train_datagen = ImageDataGenerator(rescale=1./255)\n",
    "test_datagen = ImageDataGenerator(rescale=1./255)\n",
    "\n",
    "train_dataset = train_datagen.flow_from_directory(\n",
    "        path_treino,\n",
    "        target_size=(100, 100),\n",
    "        batch_size=32,\n",
    "        class_mode='categorical')\n",
    "\n",
    "validation_dataset = test_datagen.flow_from_directory(\n",
    "        path_test,\n",
    "        target_size=(100, 100),\n",
    "        batch_size=32,\n",
    "        class_mode='categorical')"
   ]
  },
  {
   "cell_type": "code",
   "execution_count": null,
   "metadata": {},
   "outputs": [],
   "source": [
    "train_dataset.class_indices"
   ]
  },
  {
   "cell_type": "code",
   "execution_count": null,
   "metadata": {},
   "outputs": [],
   "source": [
    "import json\n",
    "\n",
    "data = train_dataset.class_indices\n",
    "\n",
    "with open('./model/dataset_indices.json', 'w') as f:\n",
    "    json.dump(data, f)"
   ]
  },
  {
   "cell_type": "code",
   "execution_count": null,
   "metadata": {},
   "outputs": [],
   "source": [
    "model = load_model(\"./model/modelo_treinado.h5\")"
   ]
  },
  {
   "cell_type": "code",
   "execution_count": null,
   "metadata": {},
   "outputs": [],
   "source": [
    "from sklearn.model_selection import cross_val_score\n",
    "from sklearn.model_selection import KFold\n",
    "\n",
    "# Realizar a validação cruzada\n",
    "# Criar o classificador Keras\n",
    "classifier = KerasClassifier(build_fn=model, epochs=10, batch_size=32, verbose=0)\n",
    "\n",
    "# Realizar a validação cruzada\n",
    "kfold = KFold(n_splits=10, shuffle=True, random_state=42)\n",
    "\n",
    "X_train, y_train = next(train_dataset)\n",
    "X_test, y_test = next(validation_dataset)\n",
    "\n",
    "scores = cross_val_score(classifier, X_train, y_train, cv=kfold, scoring='accuracy')\n",
    "\n",
    "# Imprimir os scores\n",
    "# print(\"Scores:\", scores)\n",
    "# print(\"Accuracy:\", scores.mean())\n",
    "\n",
    "from sklearn.metrics import classification_report\n",
    "from sklearn.model_selection import cross_val_predict\n",
    "\n",
    "\n",
    "predictions = cross_val_predict(classifier, X_train, y_train, cv=4)\n",
    "report = classification_report(y_train, predictions)"
   ]
  },
  {
   "cell_type": "code",
   "execution_count": null,
   "metadata": {},
   "outputs": [],
   "source": [
    "print(report)\n",
    "print(\"Accuracy:\", scores.mean())"
   ]
  },
  {
   "cell_type": "code",
   "execution_count": null,
   "metadata": {},
   "outputs": [],
   "source": [
    "plt.plot(model.history[\"loss\"])\n",
    "plt.plot(model.history[\"val_loss\"])\n",
    "plt.title(\"Histórico de Treinamento\")\n",
    "plt.ylabel(\"Função de Custo\")\n",
    "plt.xlabel(\"Épocas de treinamento\")\n",
    "plt.legend([\"Erro treino\", \"Erro teste\"])\n",
    "plt.show()"
   ]
  },
  {
   "cell_type": "code",
   "execution_count": null,
   "metadata": {},
   "outputs": [],
   "source": [
    "from PIL import Image\n",
    "\n",
    "dire = os.getcwd()\n",
    "\n",
    "diretorio = dire + \"/data/archiveshort/validation_oficial/\"\n",
    "# diretorio = dire + \"/data/archiveshort/data/validation/\"\n",
    "\n",
    "print(diretorio)\n",
    "\n",
    "for filename in os.listdir(diretorio):\n",
    "  \n",
    "\n",
    "      if filename.endswith(\".jpg\") or filename.endswith(\".png\") or filename.endswith(\".jpeg\"):\n",
    "\n",
    "        img_path = os.path.join(diretorio, filename)\n",
    "      \n",
    "        img = Image.open(img_path)\n",
    "        # imagem_redimensionada = img.resize((100,100))\n",
    "        # imagem_redimensionada.save(img_path)        \n",
    "        \n",
    "        # img = image.load_img(img_path)\n",
    "        img = img.resize((100,100))\n",
    "        plt.imshow(img)\n",
    "        plt.show()\n",
    "        \n",
    "        x = image.img_to_array(img)\n",
    "        x = np.expand_dims(x, axis=0)\n",
    "        images = np.vstack([x])\n",
    "        value = model.predict(images)\n",
    "        value = value[0].tolist()\n",
    "        \n",
    "        value_list_int = list(map(int, value))         \n",
    "        \n",
    "        maxValue = max(value_list_int)        \n",
    "        valu_posi = value_list_int.index(maxValue)\n",
    "        \n",
    "        \n",
    "        dictClassifier = train_dataset.class_indices\n",
    "        \n",
    "        for i,each in enumerate(dictClassifier):\n",
    "          \n",
    "          if(valu_posi == i):\n",
    "            print(each)"
   ]
  }
 ],
 "metadata": {
  "kernelspec": {
   "display_name": "env",
   "language": "python",
   "name": "python3"
  },
  "language_info": {
   "codemirror_mode": {
    "name": "ipython",
    "version": 3
   },
   "file_extension": ".py",
   "mimetype": "text/x-python",
   "name": "python",
   "nbconvert_exporter": "python",
   "pygments_lexer": "ipython3",
   "version": "3.11.1"
  }
 },
 "nbformat": 4,
 "nbformat_minor": 2
}
